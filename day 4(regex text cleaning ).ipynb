{
 "cells": [
  {
   "cell_type": "code",
   "execution_count": null,
   "metadata": {},
   "outputs": [],
   "source": [
    "\n",
    "g) For the given input string, display all lines not containing start irrespective of case.\n",
    "\n",
    ">>> para = '''good start\n",
    "... Start working on that\n",
    "... project you always wanted\n",
    "... stars are shining brightly\n",
    "... hi there\n",
    "... start and try to\n",
    "... finish the book\n",
    "... bye'''\n",
    "\n",
    ">>> pat = re.compile(r'start', flags=re.I)\n",
    ">>> for line in para.split('\\n'):\n",
    "...     if not pat.search(line):\n",
    "...         print(line)\n",
    "... \n",
    "project you always wanted\n",
    "stars are shining brightly\n",
    "hi there\n",
    "finish the book\n",
    "bye\n"
   ]
  },
  {
   "cell_type": "code",
   "execution_count": 2,
   "metadata": {},
   "outputs": [
    {
     "data": {
      "text/plain": [
       "True"
      ]
     },
     "execution_count": 2,
     "metadata": {},
     "output_type": "execute_result"
    }
   ],
   "source": [
    "# a) Check whether the given strings contain address. Display a boolean result as shown below.\n",
    "\n",
    "\n",
    "import re\n",
    "\n",
    "line1 = 'start address: 0xA0, func1 address: 0xC0'\n",
    "\n",
    "bool(re.search(r'address',line1))"
   ]
  },
  {
   "cell_type": "code",
   "execution_count": 7,
   "metadata": {},
   "outputs": [
    {
     "data": {
      "text/plain": [
       "'They ate five apples and five oranges'"
      ]
     },
     "execution_count": 7,
     "metadata": {},
     "output_type": "execute_result"
    }
   ],
   "source": [
    "# b) Replace all occurrences of 5 with five for the given string.\n",
    "\n",
    "ip = 'They ate 5 apples and 5 oranges'\n",
    "\n",
    "re.sub(r'5', 'five', ip)"
   ]
  },
  {
   "cell_type": "code",
   "execution_count": 10,
   "metadata": {},
   "outputs": [
    {
     "data": {
      "text/plain": [
       "'They ate five apples and 5 oranges'"
      ]
     },
     "execution_count": 10,
     "metadata": {},
     "output_type": "execute_result"
    }
   ],
   "source": [
    "# c) Replace first occurrence of 5 with five for the given string.\n",
    "\n",
    "ip = 'They ate 5 apples and 5 oranges'\n",
    "\n",
    "re.sub(r'5', 'five', ip, count=1)"
   ]
  },
  {
   "cell_type": "code",
   "execution_count": 11,
   "metadata": {},
   "outputs": [
    {
     "data": {
      "text/plain": [
       "['goal', 'sit']"
      ]
     },
     "execution_count": 11,
     "metadata": {},
     "output_type": "execute_result"
    }
   ],
   "source": [
    "# d) For the given list, filter all elements that do not contain e.\n",
    "\n",
    "items = ['goal', 'new', 'user', 'sit', 'eat', 'dinner']\n",
    "\n",
    "[w for w in items if not re.search(r'e', w)]"
   ]
  },
  {
   "cell_type": "code",
   "execution_count": 13,
   "metadata": {},
   "outputs": [
    {
     "data": {
      "text/plain": [
       "'This X should not be XD'"
      ]
     },
     "execution_count": 13,
     "metadata": {},
     "output_type": "execute_result"
    }
   ],
   "source": [
    "# e) Replace all occurrences of note irrespective of case with X.\n",
    "\n",
    "ip = 'This note should not be NoTeD'\n",
    "\n",
    "re.sub(r'note', 'X', ip, flags=re.I)\n"
   ]
  },
  {
   "cell_type": "code",
   "execution_count": 5,
   "metadata": {},
   "outputs": [
    {
     "name": "stdout",
     "output_type": "stream",
     "text": [
      "project you always wanted\n",
      "stars are shining brightly\n",
      "hi there\n",
      "finish the book\n",
      "bye\n"
     ]
    }
   ],
   "source": [
    "# g) For the given input string, display all lines not containing start irrespective of case.\n",
    "\n",
    "\n",
    "import re\n",
    "para = '''good start\n",
    "Start working on that\n",
    "project you always wanted\n",
    "stars are shining brightly\n",
    "hi there\n",
    "start and try to\n",
    "finish the book\n",
    "bye'''\n",
    "\n",
    "pat = re.compile(r'start', flags=re.I)\n",
    "for line in para.split('\\n'):\n",
    "    if not pat.search(line):\n",
    "        print(line)"
   ]
  },
  {
   "cell_type": "code",
   "execution_count": 7,
   "metadata": {},
   "outputs": [
    {
     "data": {
      "text/plain": [
       "['goal', 'new', 'eat']"
      ]
     },
     "execution_count": 7,
     "metadata": {},
     "output_type": "execute_result"
    }
   ],
   "source": [
    "# h) For the given list, filter all elements that contains either a or w.\n",
    "\n",
    "items = ['goal', 'new', 'user', 'sit', 'eat', 'dinner']\n",
    "\n",
    "[w for w in items if re.search(r'a', w) or re.search(r'w', w)]\n",
    "\n"
   ]
  },
  {
   "cell_type": "code",
   "execution_count": 8,
   "metadata": {},
   "outputs": [
    {
     "data": {
      "text/plain": [
       "'start address: 0x7F, func1 address: 0x1F'"
      ]
     },
     "execution_count": 8,
     "metadata": {},
     "output_type": "execute_result"
    }
   ],
   "source": [
    "\n",
    "# j) For the given string, replace 0xA0 with 0x7F and 0xC0 with 0x1F.\n",
    "\n",
    "ip = 'start address: 0xA0, func1 address: 0xC0'\n",
    "\n",
    "re.sub(r'0xC0', '0x1F', re.sub(r'0xA0', '0x7F', ip))"
   ]
  },
  {
   "cell_type": "code",
   "execution_count": 9,
   "metadata": {},
   "outputs": [
    {
     "data": {
      "text/plain": [
       "'bred brown spread credible'"
      ]
     },
     "execution_count": 9,
     "metadata": {},
     "output_type": "execute_result"
    }
   ],
   "source": [
    "# b) For the given input string, change only whole word red to brown\n",
    "\n",
    "words = 'bred red spread credible'\n",
    "\n",
    "re.sub(r'\\bred\\b', 'brown', words)"
   ]
  },
  {
   "cell_type": "code",
   "execution_count": 10,
   "metadata": {},
   "outputs": [
    {
     "data": {
      "text/plain": [
       "['hi42bye', 'nice1423', 'cool_42a']"
      ]
     },
     "execution_count": 10,
     "metadata": {},
     "output_type": "execute_result"
    }
   ],
   "source": [
    "# c) For the given input list, filter all elements that contains 42 surrounded by word characters.\n",
    "\n",
    "words = ['hi42bye', 'nice1423', 'bad42', 'cool_42a', 'fake4b']\n",
    "\n",
    "[w for w in words if re.search(r'\\B42\\B', w)]"
   ]
  },
  {
   "cell_type": "code",
   "execution_count": 11,
   "metadata": {},
   "outputs": [
    {
     "data": {
      "text/plain": [
       "['lovely', '2 lonely', 'dent']"
      ]
     },
     "execution_count": 11,
     "metadata": {},
     "output_type": "execute_result"
    }
   ],
   "source": [
    "# d) For the given input list, filter all elements that start with den or end with ly.\n",
    "\n",
    "items = ['lovely', '1\\ndentist', '2 lonely', 'eden', 'fly\\n', 'dent']\n",
    "\n",
    "[e for e in items if re.search(r'\\Aden', e) or re.search(r'ly\\Z', e)]"
   ]
  },
  {
   "cell_type": "code",
   "execution_count": 16,
   "metadata": {},
   "outputs": [
    {
     "name": "stdout",
     "output_type": "stream",
     "text": [
      "1234 fall wall tall\n",
      "mall call 1234 pall\n",
      "wall mall 1234 fall\n",
      "mallet wallet malls\n"
     ]
    }
   ],
   "source": [
    "# e) For the given input string, change whole word mall to 1234 only if it is at the start of a line.\n",
    "\n",
    "para = '''\\\n",
    "ball fall wall tall\n",
    "mall call ball pall\n",
    "wall mall ball fall\n",
    "mallet wallet malls'''\n",
    "\n",
    "print(re.sub(r'ball\\b', '1234', para, flags=re.M))"
   ]
  },
  {
   "cell_type": "code",
   "execution_count": null,
   "metadata": {},
   "outputs": [],
   "source": []
  }
 ],
 "metadata": {
  "kernelspec": {
   "display_name": "Python 3",
   "language": "python",
   "name": "python3"
  },
  "language_info": {
   "codemirror_mode": {
    "name": "ipython",
    "version": 3
   },
   "file_extension": ".py",
   "mimetype": "text/x-python",
   "name": "python",
   "nbconvert_exporter": "python",
   "pygments_lexer": "ipython3",
   "version": "3.8.3"
  }
 },
 "nbformat": 4,
 "nbformat_minor": 4
}
