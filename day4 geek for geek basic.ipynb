{
 "cells": [
  {
   "cell_type": "markdown",
   "metadata": {},
   "source": [
    "# 1.Factorial of number"
   ]
  },
  {
   "cell_type": "code",
   "execution_count": 3,
   "metadata": {},
   "outputs": [
    {
     "data": {
      "text/plain": [
       "120"
      ]
     },
     "execution_count": 3,
     "metadata": {},
     "output_type": "execute_result"
    }
   ],
   "source": [
    "def factorial(num):\n",
    "    if num==1 or num==0:\n",
    "        return 1\n",
    "    else:\n",
    "        return num*factorial(num-1)\n",
    "factorial(5)"
   ]
  },
  {
   "cell_type": "markdown",
   "metadata": {},
   "source": [
    "# 2.Python Program to check Armstrong Number"
   ]
  },
  {
   "cell_type": "code",
   "execution_count": 18,
   "metadata": {},
   "outputs": [
    {
     "name": "stdout",
     "output_type": "stream",
     "text": [
      "151 is not armstrong\n"
     ]
    }
   ],
   "source": [
    "def armstrong(num):\n",
    "    temp=num\n",
    "    sum=0\n",
    "    while temp>0:\n",
    "        digit=temp%10\n",
    "        sum+=digit**3\n",
    "        temp//=10\n",
    "    \n",
    "    if num==sum:\n",
    "        print(num,' is armstrong')\n",
    "    else:\n",
    "        print(num,'is not armstrong')\n",
    "\n",
    "armstrong(151)    \n",
    " \n",
    "        "
   ]
  },
  {
   "cell_type": "markdown",
   "metadata": {},
   "source": [
    "# 3. Python program to print all Prime numbers in an Interval"
   ]
  },
  {
   "cell_type": "code",
   "execution_count": 23,
   "metadata": {},
   "outputs": [
    {
     "data": {
      "text/plain": [
       "[11, 13, 17, 19, 23, 29]"
      ]
     },
     "execution_count": 23,
     "metadata": {},
     "output_type": "execute_result"
    }
   ],
   "source": [
    "def prime_interval(start,end):\n",
    "    a=[]\n",
    "    for i in range(start,end):\n",
    "        if i>1:\n",
    "            for j in range(2,i):\n",
    "                if(i%j==0):\n",
    "                    break\n",
    "            else:\n",
    "                a.append(i)\n",
    "                \n",
    "    return a\n",
    "                \n",
    "    \n",
    "prime_interval(11,30)"
   ]
  },
  {
   "cell_type": "markdown",
   "metadata": {},
   "source": [
    "# 4. Python program to check whether a number is Prime or not"
   ]
  },
  {
   "cell_type": "code",
   "execution_count": 31,
   "metadata": {},
   "outputs": [
    {
     "name": "stdout",
     "output_type": "stream",
     "text": [
      "23 s prime number\n"
     ]
    }
   ],
   "source": [
    "def prime(num):\n",
    "    if num>1:\n",
    "        for i in range(2,num):\n",
    "            if(num%i==0):\n",
    "                print(num,\"is not prime number\")\n",
    "                break\n",
    "            else:\n",
    "                print(num,\"s prime number\")\n",
    "                break\n",
    "prime(23)"
   ]
  },
  {
   "cell_type": "markdown",
   "metadata": {},
   "source": [
    "# 5 Python Program for n-th Fibonacci number"
   ]
  },
  {
   "cell_type": "code",
   "execution_count": 37,
   "metadata": {},
   "outputs": [
    {
     "data": {
      "text/plain": [
       "21"
      ]
     },
     "execution_count": 37,
     "metadata": {},
     "output_type": "execute_result"
    }
   ],
   "source": [
    "def Fibonacci(num):\n",
    "    if num<0:\n",
    "        return False\n",
    "    elif num==1:\n",
    "        return 0\n",
    "    elif num==2:\n",
    "        return 1\n",
    "    else:\n",
    "        return Fibonacci(num-1)+Fibonacci(num-2)\n",
    "Fibonacci(9)        "
   ]
  },
  {
   "cell_type": "markdown",
   "metadata": {},
   "source": [
    "# 6Python Program for Sum of squares of first n natural numbers"
   ]
  },
  {
   "cell_type": "code",
   "execution_count": 39,
   "metadata": {},
   "outputs": [
    {
     "data": {
      "text/plain": [
       "45"
      ]
     },
     "execution_count": 39,
     "metadata": {},
     "output_type": "execute_result"
    }
   ],
   "source": [
    "def sum_natural(num):\n",
    "    sum=0\n",
    "    for i in range(0,num):\n",
    "        sum+=i\n",
    "    return sum\n",
    "sum_natural(10)"
   ]
  },
  {
   "cell_type": "markdown",
   "metadata": {},
   "source": [
    "# 7 Python Program for cube sum of first n natural numbers"
   ]
  },
  {
   "cell_type": "code",
   "execution_count": 45,
   "metadata": {},
   "outputs": [
    {
     "data": {
      "text/plain": [
       "225"
      ]
     },
     "execution_count": 45,
     "metadata": {},
     "output_type": "execute_result"
    }
   ],
   "source": [
    "def cube_sum(num):\n",
    "    cube=0\n",
    "    for i in range(1,num+1):\n",
    "        cube+=i*i*i\n",
    "    return cube\n",
    "cube_sum(5)"
   ]
  },
  {
   "cell_type": "markdown",
   "metadata": {},
   "source": [
    "# 8. Python regex to fetch specific string from txt"
   ]
  },
  {
   "cell_type": "code",
   "execution_count": 71,
   "metadata": {},
   "outputs": [
    {
     "data": {
      "text/plain": [
       "('dob:04/05/96', 'mobile_number:123456789', 'email:abc@gmail.com')"
      ]
     },
     "execution_count": 71,
     "metadata": {},
     "output_type": "execute_result"
    }
   ],
   "source": [
    "import re\n",
    "def date_of_birth(txt):\n",
    "    txt=txt.lower()\n",
    "    \n",
    "    if 'dob:' in txt:\n",
    "        date_of_birth=re.findall(r'dob:.+',txt)\n",
    "        date_of_birth=date_of_birth[0].split()\n",
    "        return date_of_birth[0]\n",
    "    else:\n",
    "        return False\n",
    "     \n",
    "def mobile_number(txt):\n",
    "    txt=txt.lower()\n",
    "    \n",
    "    if 'mobile_number:' in txt:\n",
    "        mobile_number=re.findall(r'mobile_number:.+',txt)\n",
    "        mobile_number=mobile_number[0].split()\n",
    "        return mobile_number[0]\n",
    "    else:\n",
    "        return False\n",
    "    \n",
    "def email(txt):\n",
    "    txt=txt.lower()\n",
    "    txt=txt.replace(' ','')\n",
    "    \n",
    "    if 'email' in txt:\n",
    "        email=re.findall(r'email.+',txt)\n",
    "        email=email[0].split()\n",
    "        return email[0]\n",
    "    else:\n",
    "        return False\n",
    "    \n",
    "def main(txt):\n",
    "    \n",
    "    return date_of_birth(txt),mobile_number(txt),email(txt)\n",
    "    \n",
    "txt=''' my name is shyam and my dob:04/05/96 AND mobile_number:123456789 and email:abc@gmail.com'''                    \n",
    "main(txt)    "
   ]
  },
  {
   "cell_type": "markdown",
   "metadata": {},
   "source": [
    "# Find out number within range from txt"
   ]
  },
  {
   "cell_type": "code",
   "execution_count": 69,
   "metadata": {},
   "outputs": [
    {
     "data": {
      "text/plain": [
       "['123456789']"
      ]
     },
     "execution_count": 69,
     "metadata": {},
     "output_type": "execute_result"
    }
   ],
   "source": [
    "txt=''' my name is shyam and my dob:04/05/96 AND mobile_number:123456789 and email:abc@gmail.com'''\n",
    "re.findall(r'\\d{8,9}',txt)"
   ]
  },
  {
   "cell_type": "code",
   "execution_count": null,
   "metadata": {},
   "outputs": [],
   "source": []
  }
 ],
 "metadata": {
  "kernelspec": {
   "display_name": "Python 3",
   "language": "python",
   "name": "python3"
  },
  "language_info": {
   "codemirror_mode": {
    "name": "ipython",
    "version": 3
   },
   "file_extension": ".py",
   "mimetype": "text/x-python",
   "name": "python",
   "nbconvert_exporter": "python",
   "pygments_lexer": "ipython3",
   "version": "3.8.3"
  }
 },
 "nbformat": 4,
 "nbformat_minor": 4
}
