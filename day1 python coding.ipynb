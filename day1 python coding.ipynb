{
 "cells": [
  {
   "cell_type": "markdown",
   "metadata": {},
   "source": [
    "# 1. Sum of Prime Numbers"
   ]
  },
  {
   "cell_type": "code",
   "execution_count": 2,
   "metadata": {},
   "outputs": [
    {
     "data": {
      "text/plain": [
       "17"
      ]
     },
     "execution_count": 2,
     "metadata": {},
     "output_type": "execute_result"
    }
   ],
   "source": [
    "\n",
    "def is_prime(num):\n",
    "    if num==1:\n",
    "        return False\n",
    "    for i in range(2,num//2+1):\n",
    "        if num%i==0:\n",
    "            return False\n",
    "    return True\n",
    "\n",
    "def sum_prime(lst):\n",
    "    total=0\n",
    "    if len(lst)==0:\n",
    "        return None\n",
    "    for i in lst:\n",
    "        if is_prime(i):\n",
    "            total+=i\n",
    "            \n",
    "    return total\n",
    "lst=[1, 2, 3, 4, 5, 6, 7, 8, 9, 10]\n",
    "sum_prime(lst)\n"
   ]
  },
  {
   "cell_type": "markdown",
   "metadata": {},
   "source": [
    "#  2. Christmas Eve is almost upon us, so naturally we need to prepare some milk and cookies for Santa! Create a function that accepts a Date object and returns True if it's Christmas Eve (December 24th) and False otherwise.\n",
    "\n",
    "Examples\n",
    "time_for_milk_and_cookies(datetime.date(2013, 12, 24)) ➞ True\n",
    "\n",
    "time_for_milk_and_cookies(datetime.date(2013, 1, 23)) ➞ False\n"
   ]
  },
  {
   "cell_type": "code",
   "execution_count": 9,
   "metadata": {},
   "outputs": [
    {
     "data": {
      "text/plain": [
       "True"
      ]
     },
     "execution_count": 9,
     "metadata": {},
     "output_type": "execute_result"
    }
   ],
   "source": [
    "import datetime\n",
    "def time_for_milk_and_cookies(date):\n",
    "    return True if (date.day==24 and date.month==12) else False\n",
    "time_for_milk_and_cookies(datetime.date(2013, 12, 24))"
   ]
  },
  {
   "cell_type": "markdown",
   "metadata": {},
   "source": [
    "# 3.Fibonacci !Recursion"
   ]
  },
  {
   "cell_type": "code",
   "execution_count": 6,
   "metadata": {},
   "outputs": [
    {
     "data": {
      "text/plain": [
       "8"
      ]
     },
     "execution_count": 6,
     "metadata": {},
     "output_type": "execute_result"
    }
   ],
   "source": [
    "def fib(n):\n",
    "    a,b=0,1\n",
    "    for i in range(n):\n",
    "        a,b=b,a+b\n",
    "    return a\n",
    "fib(6)"
   ]
  },
  {
   "cell_type": "markdown",
   "metadata": {},
   "source": [
    "                          # or"
   ]
  },
  {
   "cell_type": "code",
   "execution_count": 7,
   "metadata": {},
   "outputs": [
    {
     "data": {
      "text/plain": [
       "8"
      ]
     },
     "execution_count": 7,
     "metadata": {},
     "output_type": "execute_result"
    }
   ],
   "source": [
    "def fibn(n):\n",
    "    if n==0:\n",
    "        return 0\n",
    "    elif n==1:\n",
    "        \n",
    "        return 0\n",
    "    else:\n",
    "        return fibn(n-1)+fibn(n-2)\n",
    "    \n",
    "fib(6)"
   ]
  },
  {
   "cell_type": "markdown",
   "metadata": {},
   "source": [
    "# 4. Create a function to calculate how many characters in total are needed to make up the shape. You will be given a list of strings which make up a shape in the compiler (i.e. a square, a rectangle or a line).\n",
    "\n",
    "Examples\n",
    "count_characters([\n",
    "  \"###\",\n",
    "  \"###\",\n",
    "  \"###\"\n",
    "]) ➞ 9"
   ]
  },
  {
   "cell_type": "code",
   "execution_count": 12,
   "metadata": {},
   "outputs": [
    {
     "data": {
      "text/plain": [
       "9"
      ]
     },
     "execution_count": 12,
     "metadata": {},
     "output_type": "execute_result"
    }
   ],
   "source": [
    "def count_chars(lst):\n",
    "    count=0\n",
    "    for char_ in lst:\n",
    "        count+=len(char_)\n",
    "        \n",
    "    return count\n",
    "count_chars([ \"###\", \"###\", \"###\" ])"
   ]
  },
  {
   "cell_type": "markdown",
   "metadata": {},
   "source": [
    "# 5. Given a list of numbers, write a function that returns a list that...\n",
    "\n",
    "Has all duplicate elements removed.\n",
    "Is sorted from least to greatest value"
   ]
  },
  {
   "cell_type": "code",
   "execution_count": 11,
   "metadata": {},
   "outputs": [
    {
     "data": {
      "text/plain": [
       "[1, 4, 50, 3, 2, 5]"
      ]
     },
     "execution_count": 11,
     "metadata": {},
     "output_type": "execute_result"
    }
   ],
   "source": [
    "def remove_duplicate(values):\n",
    "    seen=set()\n",
    "    ar=[]\n",
    "    for value in values:\n",
    "        if value not in seen:\n",
    "            ar.append(value)\n",
    "            seen.add(value)\n",
    "    \n",
    "    \n",
    "    return ar\n",
    "        \n",
    "values= [1, 4, 50,4, 4, 4, 4, 3, 2,5, 1, 2]    \n",
    "remove_duplicate(values)"
   ]
  },
  {
   "cell_type": "code",
   "execution_count": 12,
   "metadata": {},
   "outputs": [
    {
     "data": {
      "text/plain": [
       "[1, 2, 3, 4, 5, 50]"
      ]
     },
     "execution_count": 12,
     "metadata": {},
     "output_type": "execute_result"
    }
   ],
   "source": [
    "\n",
    "def sorted_elements(arr):\n",
    "    arr=remove_duplicate(values)\n",
    "    for i in range(0, len(arr)):\n",
    "        for j in range(i+1, len(arr)):\n",
    "            if(arr[i] > arr[j]):\n",
    "                temp = arr[i];\n",
    "                arr[i] = arr[j];\n",
    "                arr[j] = temp;\n",
    "    return arr\n",
    "sorted_elements(arr)"
   ]
  },
  {
   "cell_type": "code",
   "execution_count": null,
   "metadata": {},
   "outputs": [],
   "source": []
  }
 ],
 "metadata": {
  "kernelspec": {
   "display_name": "Python 3",
   "language": "python",
   "name": "python3"
  },
  "language_info": {
   "codemirror_mode": {
    "name": "ipython",
    "version": 3
   },
   "file_extension": ".py",
   "mimetype": "text/x-python",
   "name": "python",
   "nbconvert_exporter": "python",
   "pygments_lexer": "ipython3",
   "version": "3.8.3"
  }
 },
 "nbformat": 4,
 "nbformat_minor": 4
}
