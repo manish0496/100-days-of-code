{
 "cells": [
  {
   "cell_type": "markdown",
   "metadata": {},
   "source": [
    "# Python program to check if a string is palindrome or not"
   ]
  },
  {
   "cell_type": "code",
   "execution_count": 20,
   "metadata": {},
   "outputs": [
    {
     "name": "stdout",
     "output_type": "stream",
     "text": [
      "malayalam  palindrome\n"
     ]
    },
    {
     "data": {
      "text/plain": [
       "True"
      ]
     },
     "execution_count": 20,
     "metadata": {},
     "output_type": "execute_result"
    }
   ],
   "source": [
    "def palindrome(string):\n",
    "    for i in range(0,int(len(string)/2)):\n",
    "        if string[i]!=string[len(string)-i-1]:\n",
    "            print(string ,'not palindrome')\n",
    "            return False\n",
    "        else:\n",
    "            print(string,' palindrome')\n",
    "            return True\n",
    "        \n",
    "palindrome('malayalam')"
   ]
  },
  {
   "cell_type": "markdown",
   "metadata": {},
   "source": [
    "# Python program to check whether the number is Palindrome"
   ]
  },
  {
   "cell_type": "code",
   "execution_count": 21,
   "metadata": {},
   "outputs": [
    {
     "name": "stdout",
     "output_type": "stream",
     "text": [
      "12321 is palindrome\n"
     ]
    }
   ],
   "source": [
    "def palindrome_number(num):\n",
    "    temp=num\n",
    "    sum=0\n",
    "    while(temp>0):\n",
    "        digit=temp%10\n",
    "        sum=sum*10+digit\n",
    "        temp=temp//10\n",
    "        \n",
    "    if num==sum:\n",
    "        print(num,'is palindrome')\n",
    "    else:\n",
    "        print(num,'not a palindrome')\n",
    "        \n",
    "palindrome_number(12321)    "
   ]
  },
  {
   "cell_type": "markdown",
   "metadata": {},
   "source": [
    "# Python program to check whether the string is Symmetrical or Palindrome"
   ]
  },
  {
   "cell_type": "code",
   "execution_count": 22,
   "metadata": {},
   "outputs": [
    {
     "name": "stdout",
     "output_type": "stream",
     "text": [
      "malayalam is not symmetrical\n"
     ]
    }
   ],
   "source": [
    "def symmetrical(string):\n",
    "    \n",
    "    n=len(string)\n",
    "    flag=0\n",
    "    \n",
    "    if n%2:\n",
    "        mid_value=n//2+1\n",
    "    else:\n",
    "        mid_value=n\n",
    "        \n",
    "    start1=0\n",
    "    start2=mid_value\n",
    "        \n",
    "    while(start1<mid_value and start2<n):\n",
    "        if (string[start1]==string[start2]):\n",
    "            start1+=1\n",
    "            start2+=1\n",
    "        else:\n",
    "            flag=1\n",
    "            break\n",
    "            \n",
    "    if flag==0:\n",
    "        print(string,'is symmetrical')\n",
    "    else:\n",
    "        print(string,'is not symmetrical')\n",
    "        \n",
    "        \n",
    "symmetrical('malayalam')  "
   ]
  },
  {
   "cell_type": "markdown",
   "metadata": {},
   "source": [
    "# Reverse words in a given String in Python"
   ]
  },
  {
   "cell_type": "code",
   "execution_count": 43,
   "metadata": {},
   "outputs": [
    {
     "name": "stdout",
     "output_type": "stream",
     "text": [
      "revesred you are how hello\n"
     ]
    },
    {
     "data": {
      "text/plain": [
       "'you are how hello'"
      ]
     },
     "execution_count": 43,
     "metadata": {},
     "output_type": "execute_result"
    }
   ],
   "source": [
    "def reversed_string(string):\n",
    "    string=string.split()\n",
    "    string=' '.join(reversed(string))\n",
    "    print('revesred',string)\n",
    "    return string\n",
    "\n",
    "string='hello how are you'\n",
    "reversed_string(string)"
   ]
  },
  {
   "cell_type": "markdown",
   "metadata": {},
   "source": [
    "# Remove all duplicates from a given string in Python"
   ]
  },
  {
   "cell_type": "code",
   "execution_count": 44,
   "metadata": {},
   "outputs": [
    {
     "name": "stdout",
     "output_type": "stream",
     "text": [
      "without duplicate: geksfor\n"
     ]
    },
    {
     "data": {
      "text/plain": [
       "'geksfor'"
      ]
     },
     "execution_count": 44,
     "metadata": {},
     "output_type": "execute_result"
    }
   ],
   "source": [
    "def duplicate_remove(string):\n",
    "    s=''\n",
    "    for i in string:\n",
    "        if i in s:\n",
    "            pass\n",
    "        else:\n",
    "            s=s+i\n",
    "    print('without duplicate:',s)\n",
    "        \n",
    "            \n",
    "    return s\n",
    "            \n",
    "\n",
    "duplicate_remove('geeksforgook')       \n",
    "    \n",
    "\n"
   ]
  },
  {
   "cell_type": "markdown",
   "metadata": {},
   "source": [
    "# calling all function"
   ]
  },
  {
   "cell_type": "code",
   "execution_count": 45,
   "metadata": {},
   "outputs": [
    {
     "name": "stdout",
     "output_type": "stream",
     "text": [
      "amaama  palindrome\n",
      "amaama is symetrical\n",
      "revesred amaama\n",
      "without duplicate: am\n"
     ]
    },
    {
     "data": {
      "text/plain": [
       "(True, None, 'amaama', 'am')"
      ]
     },
     "execution_count": 45,
     "metadata": {},
     "output_type": "execute_result"
    }
   ],
   "source": [
    "def main_fuction(string):\n",
    "    return palindrome(string),symmetrical(string),reversed_string(string),duplicate_remove(string)\n",
    "\n",
    "main_fuction('amaama')"
   ]
  },
  {
   "cell_type": "markdown",
   "metadata": {},
   "source": [
    "# Python | Program to print duplicates from a list of integers"
   ]
  },
  {
   "cell_type": "code",
   "execution_count": 23,
   "metadata": {},
   "outputs": [
    {
     "name": "stdout",
     "output_type": "stream",
     "text": [
      "duplicate value are [20, 30, -20, 60]\n"
     ]
    },
    {
     "data": {
      "text/plain": [
       "[20, 30, -20, 60]"
      ]
     },
     "execution_count": 23,
     "metadata": {},
     "output_type": "execute_result"
    }
   ],
   "source": [
    "\n",
    "def duplicate_list(arr):\n",
    "    duplicate=[]\n",
    "    non_duplicate=[]\n",
    "    for i in range(len(arr)):\n",
    "        k=i+1\n",
    "        for j in range(k,len(arr)):\n",
    "            if arr[i]==arr[j] and arr[i] not in duplicate:\n",
    "                duplicate.append(arr[i])\n",
    "            \n",
    "    print('duplicate value are',duplicate)\n",
    "#     print('non duplicate value are',non_duplicate)\n",
    "                \n",
    "    return duplicate\n",
    "list = [10, 20, 30, 20, 20, 30, 40, 50, -20, 60, 60, -20, -20]\n",
    "duplicate_list(list)"
   ]
  },
  {
   "cell_type": "markdown",
   "metadata": {},
   "source": [
    "# Input Format\n",
    "\n",
    "A single line of input consisting of the string .\n",
    "\n",
    "Output Format\n",
    "\n",
    "A single line of output consisting of the modified string.\n",
    "\n",
    "Constraints\n",
    "\n",
    "All the characters of  denote integers between  and .\n",
    "\n",
    "\n",
    "Sample Input\n",
    "\n",
    "1222311\n",
    "Sample Output\n",
    "\n",
    "(1, 1) (3, 2) (1, 3) (2, 1)"
   ]
  },
  {
   "cell_type": "code",
   "execution_count": 42,
   "metadata": {},
   "outputs": [
    {
     "name": "stdout",
     "output_type": "stream",
     "text": [
      "(1, 1) (3, 2) (1, 3) (2, 1) "
     ]
    }
   ],
   "source": [
    "from itertools import groupby\n",
    "for k,g in groupby('1222311'):\n",
    "    a=list(g)\n",
    "    print('(',len(a),', ',a[0],')',end=' ',sep='')\n",
    "    "
   ]
  },
  {
   "cell_type": "markdown",
   "metadata": {},
   "source": [
    "or"
   ]
  },
  {
   "cell_type": "code",
   "execution_count": 43,
   "metadata": {},
   "outputs": [
    {
     "name": "stdout",
     "output_type": "stream",
     "text": [
      "(1, 1) (3, 2) (1, 3) (2, 1) "
     ]
    }
   ],
   "source": [
    "from itertools import groupby\n",
    "for k, g in groupby('1222311'):\n",
    "    print(\"({}, {})\".format(len(list(g)), k), end=\" \")"
   ]
  },
  {
   "cell_type": "markdown",
   "metadata": {},
   "source": [
    "# The itertools module standardizes a core set of fast, memory efficient tools that are useful by themselves or in combination. Together, they form an iterator algebra making it possible to construct specialized tools succinctly and efficiently in pure Python.\n",
    "\n",
    "To read more about the functions in this module, check out their documentation here.\n",
    "\n",
    "You are given a list of  lowercase English letters. For a given integer , you can select any  indices (assume -based indexing) with a uniform probability from the list.\n",
    "\n",
    "Find the probability that at least one of the  indices selected will contain the letter: ''.\n",
    "\n",
    "Input Format\n",
    "\n",
    "The input consists of three lines. The first line contains the integer , denoting the length of the list. The next line consists of  space-separated lowercase English letters, denoting the elements of the list.\n",
    "\n",
    "The third and the last line of input contains the integer , denoting the number of indices to be selected.\n",
    "\n",
    "Output Format\n",
    "\n",
    "Output a single line consisting of the probability that at least one of the  indices selected contains the letter:''.\n",
    "\n",
    "Note: The answer must be correct up to 3 decimal places.\n",
    "\n",
    "Constraints\n",
    "\n",
    "\n",
    "\n",
    "All the letters in the list are lowercase English letters.\n",
    "\n",
    "Sample Input\n",
    "\n",
    "4 \n",
    "a a c d\n",
    "2\n",
    "Sample Output\n",
    "\n",
    "0.8333"
   ]
  },
  {
   "cell_type": "code",
   "execution_count": 45,
   "metadata": {},
   "outputs": [
    {
     "name": "stdout",
     "output_type": "stream",
     "text": [
      "4\n",
      "a a c d\n",
      "2\n",
      "0.833\n"
     ]
    }
   ],
   "source": [
    "from itertools import combinations\n",
    "input()\n",
    "combos = list(combinations(input().split(), int(input())))\n",
    "count = 0\n",
    "for i in combos:\n",
    "    if \"a\" in i:\n",
    "        count+=1\n",
    "print(round(count/len(combos),3))"
   ]
  },
  {
   "cell_type": "code",
   "execution_count": null,
   "metadata": {},
   "outputs": [],
   "source": []
  }
 ],
 "metadata": {
  "kernelspec": {
   "display_name": "Python 3",
   "language": "python",
   "name": "python3"
  },
  "language_info": {
   "codemirror_mode": {
    "name": "ipython",
    "version": 3
   },
   "file_extension": ".py",
   "mimetype": "text/x-python",
   "name": "python",
   "nbconvert_exporter": "python",
   "pygments_lexer": "ipython3",
   "version": "3.8.5"
  }
 },
 "nbformat": 4,
 "nbformat_minor": 4
}
