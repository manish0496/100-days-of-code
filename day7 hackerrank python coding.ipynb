{
 "cells": [
  {
   "cell_type": "markdown",
   "metadata": {},
   "source": [
    "# Day 9: Recursion 3\n",
    "\n",
    "find factorial"
   ]
  },
  {
   "cell_type": "code",
   "execution_count": 2,
   "metadata": {},
   "outputs": [
    {
     "data": {
      "text/plain": [
       "120"
      ]
     },
     "execution_count": 2,
     "metadata": {},
     "output_type": "execute_result"
    }
   ],
   "source": [
    "def factoeial(n):\n",
    "    if n<=1:\n",
    "        return 1\n",
    "    else:\n",
    "        return n*factoeial(n-1)\n",
    "    \n",
    "factoeial(5)"
   ]
  },
  {
   "cell_type": "markdown",
   "metadata": {},
   "source": [
    "# Day 10: Binary Numbers\n",
    "\n",
    "Task\n",
    "Given a base- integer,10 ,n convert it to binary (base-2). Then find and print the base-10 integer denoting the maximum number of consecutive 1's in n's binary representation.\n",
    "\n",
    "Output Format\n",
    "\n",
    "Print a single base- integer denoting the maximum number of consecutive 's in the binary representation of .\n",
    "\n",
    "Sample Input 1\n",
    "\n",
    "5\n",
    "Sample Output 1\n",
    "\n",
    "1\n",
    "Sample Input 2\n",
    "\n",
    "\n",
    "Explanation\n",
    "\n",
    "Sample Case 1:\n",
    "The binary representation of  5 is 101, so the maximum number of consecutive 1 's is 1 .\n",
    "\n",
    "Sample Case 2:\n",
    "The binary representation of  is , so the maximum number of consecutive 's is ."
   ]
  },
  {
   "cell_type": "code",
   "execution_count": 3,
   "metadata": {},
   "outputs": [
    {
     "name": "stdout",
     "output_type": "stream",
     "text": [
      "5\n",
      "1\n"
     ]
    }
   ],
   "source": [
    "n = int(input())\n",
    "\n",
    "count = 0\n",
    "while n:\n",
    "    n &= n << 1\n",
    "    count += 1\n",
    "\n",
    "print(count)"
   ]
  },
  {
   "cell_type": "raw",
   "metadata": {},
   "source": [
    "                                                  or "
   ]
  },
  {
   "cell_type": "code",
   "execution_count": 7,
   "metadata": {},
   "outputs": [
    {
     "name": "stdout",
     "output_type": "stream",
     "text": [
      "2\n",
      "1\n"
     ]
    }
   ],
   "source": [
    "n = int(input())\n",
    "num = bin(n)[2:]\n",
    "l = str(num).split(\"0\")\n",
    "c = len(max(l))\n",
    "print(c)"
   ]
  },
  {
   "cell_type": "markdown",
   "metadata": {},
   "source": [
    "# Day 11: 2D Arrays\n",
    "\n",
    "Task\n",
    "Calculate the hourglass sum for every hourglass in , then print the maximum hourglass sum.\n",
    "\n",
    "Sample Input\n",
    "\n",
    "1 1 1 0 0 0\n",
    "\n",
    "0 1 0 0 0 0\n",
    "\n",
    "1 1 1 0 0 0\n",
    "\n",
    "0 0 2 4 4 0\n",
    "\n",
    "0 0 0 2 0 0\n",
    "\n",
    "0 0 1 2 4 0\n",
    "\n",
    "Sample Output\n",
    "\n",
    "19"
   ]
  },
  {
   "cell_type": "code",
   "execution_count": null,
   "metadata": {},
   "outputs": [],
   "source": [
    "arr = []\n",
    "\n",
    "for _ in range(6):\n",
    "    tmp = [int(x) for x in str(input()).split(\" \")]\n",
    "    arr.append(tmp)\n",
    "\n",
    "maximum = -9 * 7\n",
    "\n",
    "for i in range(6):\n",
    "    for j in range(6):\n",
    "        if j + 2 < 6 and i + 2 < 6:\n",
    "            result = arr[i][j] + arr[i][j + 1] + arr[i][j + 2] + arr[i + 1][j + 1] + arr[i + 2][j] + arr[i + 2][j + 1] + arr[i + 2][j + 2]\n",
    "            if result > maximum:\n",
    "                maximum = result\n",
    "\n",
    "print(maximum)"
   ]
  },
  {
   "cell_type": "markdown",
   "metadata": {},
   "source": [
    "# Day 12: Inheritance\n",
    "\n"
   ]
  },
  {
   "cell_type": "code",
   "execution_count": null,
   "metadata": {},
   "outputs": [],
   "source": [
    "class Student(Person):\n",
    "    def __init__(self,firstName,lastName,idNum,scores):\n",
    "        self.firstName=firstName\n",
    "        self.lastName=lastName\n",
    "        self.idNumber=idNum\n",
    "        self.scores=scores\n",
    "\n",
    "    def calculate(self):\n",
    "        a=sum(self.scores)/len(self.scores)\n",
    "        if a >= 90:\n",
    "            return 'O'\n",
    "        elif 90>a>=80:\n",
    "            return 'E'\n",
    "        elif 80>a>=70:\n",
    "            return 'A'\n",
    "        elif 70>a>=55:\n",
    "            return 'P'\n",
    "        elif 55>a>=40:\n",
    "            return 'D'\n",
    "        else:\n",
    "            return 'T'"
   ]
  },
  {
   "cell_type": "markdown",
   "metadata": {},
   "source": [
    "# Day 13: abstract"
   ]
  },
  {
   "cell_type": "code",
   "execution_count": 15,
   "metadata": {},
   "outputs": [
    {
     "ename": "NameError",
     "evalue": "name 'Book' is not defined",
     "output_type": "error",
     "traceback": [
      "\u001b[1;31m---------------------------------------------------------------------------\u001b[0m",
      "\u001b[1;31mNameError\u001b[0m                                 Traceback (most recent call last)",
      "\u001b[1;32m<ipython-input-15-bb36c125b045>\u001b[0m in \u001b[0;36m<module>\u001b[1;34m\u001b[0m\n\u001b[1;32m----> 1\u001b[1;33m \u001b[1;32mclass\u001b[0m \u001b[0mMyBook\u001b[0m\u001b[1;33m(\u001b[0m\u001b[0mBook\u001b[0m\u001b[1;33m)\u001b[0m\u001b[1;33m:\u001b[0m\u001b[1;33m\u001b[0m\u001b[1;33m\u001b[0m\u001b[0m\n\u001b[0m\u001b[0;32m      2\u001b[0m     \u001b[0mprice\u001b[0m \u001b[1;33m=\u001b[0m \u001b[1;36m0\u001b[0m\u001b[1;33m\u001b[0m\u001b[1;33m\u001b[0m\u001b[0m\n\u001b[0;32m      3\u001b[0m     \u001b[1;32mdef\u001b[0m \u001b[0m__init__\u001b[0m\u001b[1;33m(\u001b[0m\u001b[0mself\u001b[0m\u001b[1;33m,\u001b[0m \u001b[0mtitle\u001b[0m\u001b[1;33m,\u001b[0m \u001b[0mauthor\u001b[0m\u001b[1;33m,\u001b[0m \u001b[0mprice\u001b[0m\u001b[1;33m)\u001b[0m\u001b[1;33m:\u001b[0m\u001b[1;33m\u001b[0m\u001b[1;33m\u001b[0m\u001b[0m\n\u001b[0;32m      4\u001b[0m         \u001b[0msuper\u001b[0m\u001b[1;33m(\u001b[0m\u001b[0mBook\u001b[0m\u001b[1;33m,\u001b[0m \u001b[0mself\u001b[0m\u001b[1;33m)\u001b[0m\u001b[1;33m.\u001b[0m\u001b[0m__init__\u001b[0m\u001b[1;33m(\u001b[0m\u001b[1;33m)\u001b[0m\u001b[1;33m\u001b[0m\u001b[1;33m\u001b[0m\u001b[0m\n\u001b[0;32m      5\u001b[0m         \u001b[0mself\u001b[0m\u001b[1;33m.\u001b[0m\u001b[0mprice\u001b[0m \u001b[1;33m=\u001b[0m \u001b[0mprice\u001b[0m\u001b[1;33m\u001b[0m\u001b[1;33m\u001b[0m\u001b[0m\n",
      "\u001b[1;31mNameError\u001b[0m: name 'Book' is not defined"
     ]
    }
   ],
   "source": [
    "class MyBook(Book):\n",
    "    price = 0\n",
    "    def __init__(self, title, author, price):\n",
    "        super(Book, self).__init__()\n",
    "        self.price = price \n",
    "\n",
    "    def display(self):\n",
    "        print(\"Title: \"+ title)\n",
    "        print(\"Author: \"+ author)\n",
    "        print(\"Price: \"+ str(price))"
   ]
  },
  {
   "cell_type": "markdown",
   "metadata": {},
   "source": [
    "# Day 14: Scope"
   ]
  },
  {
   "cell_type": "code",
   "execution_count": null,
   "metadata": {},
   "outputs": [],
   "source": [
    "class Difference:\n",
    "    def __init__(self, a):\n",
    "        self.__elements = a\n",
    "\n",
    "    def computeDifference(self):\n",
    "        maxx=max(self.__elements)\n",
    "        minn=min(self.__elements)\n",
    "\n",
    "        self.maximumDifference=maxx-minn\n",
    "\n",
    "\n",
    "\t# Add your code here\n",
    "\n",
    "# End of Difference class\n",
    "\n",
    "_ = input()\n",
    "a = [int(e) for e in input().split(' ')]\n",
    "\n",
    "d = Difference(a)\n",
    "d.computeDifference()\n",
    "\n",
    "print(d.maximumDifference)"
   ]
  }
 ],
 "metadata": {
  "kernelspec": {
   "display_name": "Python 3",
   "language": "python",
   "name": "python3"
  },
  "language_info": {
   "codemirror_mode": {
    "name": "ipython",
    "version": 3
   },
   "file_extension": ".py",
   "mimetype": "text/x-python",
   "name": "python",
   "nbconvert_exporter": "python",
   "pygments_lexer": "ipython3",
   "version": "3.8.3"
  }
 },
 "nbformat": 4,
 "nbformat_minor": 4
}
