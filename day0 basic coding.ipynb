{
 "cells": [
  {
   "cell_type": "markdown",
   "metadata": {},
   "source": [
    "# 1. find non duplicate value  Sales by Match"
   ]
  },
  {
   "cell_type": "code",
   "execution_count": 7,
   "metadata": {},
   "outputs": [
    {
     "data": {
      "text/plain": [
       "3"
      ]
     },
     "execution_count": 7,
     "metadata": {},
     "output_type": "execute_result"
    }
   ],
   "source": [
    "def sockMerchant(n, ar):\n",
    "    pairs = 0\n",
    "    stray = []\n",
    "    i = 0\n",
    "    for i in range(n): \n",
    "        if ar[i] in stray:\n",
    "            pairs += 1\n",
    "            stray.remove(ar[i])\n",
    "        else:\n",
    "            stray.append(ar[i]) \n",
    "    return(pairs)\n",
    "n=9\n",
    "ar=[10,20,20,10,10,30,50 ,10 ,20]\n",
    "sockMerchant(n, ar)"
   ]
  },
  {
   "cell_type": "markdown",
   "metadata": {},
   "source": [
    "# 2. Write a function that searches a list of names (unsorted) for the name \"Bob\" and returns the location in the list. If Bob is not in the list, return -1.\n",
    "\n",
    "Examples\n",
    "find_bob([\"Jimmy\", \"Layla\", \"Bob\"]) ➞ 2\n",
    "\n",
    "find_bob([\"Bob\", \"Layla\", \"Kaitlyn\", \"Patricia\"]) ➞ 0\n",
    "\n",
    "find_bob([\"Jimmy\", \"Layla\", \"James\"]) ➞ -1"
   ]
  },
  {
   "cell_type": "code",
   "execution_count": 8,
   "metadata": {},
   "outputs": [
    {
     "data": {
      "text/plain": [
       "2"
      ]
     },
     "execution_count": 8,
     "metadata": {},
     "output_type": "execute_result"
    }
   ],
   "source": [
    "def find_bob(names):\n",
    "    return names.index('Bob') if 'Bob' in names else -1\n",
    "   \n",
    "            \n",
    "names=[\"Jimmy\", \"Layla\", \"Bob\"]\n",
    "find_bob(names)"
   ]
  },
  {
   "cell_type": "markdown",
   "metadata": {},
   "source": [
    "# 3. Find Number of Digits in Number"
   ]
  },
  {
   "cell_type": "code",
   "execution_count": 12,
   "metadata": {},
   "outputs": [
    {
     "name": "stdout",
     "output_type": "stream",
     "text": [
      "enter number22\n"
     ]
    },
    {
     "data": {
      "text/plain": [
       "2"
      ]
     },
     "execution_count": 12,
     "metadata": {},
     "output_type": "execute_result"
    }
   ],
   "source": [
    "def num_of_digits(num):\n",
    "    count=0\n",
    "    num=int(input('enter number'))\n",
    "    while(num>0):\n",
    "        num=num//10\n",
    "        count+=1\n",
    "    return count\n",
    "    \n",
    "num_of_digits(1000)  "
   ]
  },
  {
   "cell_type": "code",
   "execution_count": 16,
   "metadata": {},
   "outputs": [],
   "source": [
    "#or"
   ]
  },
  {
   "cell_type": "code",
   "execution_count": 15,
   "metadata": {},
   "outputs": [
    {
     "data": {
      "text/plain": [
       "1"
      ]
     },
     "execution_count": 15,
     "metadata": {},
     "output_type": "execute_result"
    }
   ],
   "source": [
    "len(str(abs(1)))"
   ]
  },
  {
   "cell_type": "markdown",
   "metadata": {},
   "source": [
    "# 4. Curzon Numbers\n",
    "\n",
    "is_curzon(5) ➞ True\n",
    "#2 ** 5 + 1 = 33\n",
    "#2 * 5 + 1 = 11\n",
    "#33 is a multiple of 11\n",
    "\n",
    "\n"
   ]
  },
  {
   "cell_type": "code",
   "execution_count": 19,
   "metadata": {},
   "outputs": [
    {
     "data": {
      "text/plain": [
       "True"
      ]
     },
     "execution_count": 19,
     "metadata": {},
     "output_type": "execute_result"
    }
   ],
   "source": [
    "def is_curzon(num):\n",
    "    return (2**num+1)%(2*num +1)==0\n",
    "is_curzon(5)"
   ]
  },
  {
   "cell_type": "markdown",
   "metadata": {},
   "source": [
    "# 5. Create a function that takes date in the format yyyy/mm/dd as an input and returns \"Bonfire toffee\" if the date is October 31, else return \"toffee\"."
   ]
  },
  {
   "cell_type": "code",
   "execution_count": 21,
   "metadata": {},
   "outputs": [
    {
     "data": {
      "text/plain": [
       "'Bonfire toffee'"
      ]
     },
     "execution_count": 21,
     "metadata": {},
     "output_type": "execute_result"
    }
   ],
   "source": [
    "def halloween(dt):\n",
    "    return \"Bonfire toffee\" if dt.endswith('10/31') else \"toffee\"\n",
    "halloween(\"2013/10/31\")"
   ]
  },
  {
   "cell_type": "code",
   "execution_count": 24,
   "metadata": {},
   "outputs": [
    {
     "data": {
      "text/plain": [
       "14795.999999999998"
      ]
     },
     "execution_count": 24,
     "metadata": {},
     "output_type": "execute_result"
    }
   ],
   "source": [
    "(45-32.67)*1200"
   ]
  },
  {
   "cell_type": "code",
   "execution_count": null,
   "metadata": {},
   "outputs": [],
   "source": []
  }
 ],
 "metadata": {
  "kernelspec": {
   "display_name": "Python 3",
   "language": "python",
   "name": "python3"
  },
  "language_info": {
   "codemirror_mode": {
    "name": "ipython",
    "version": 3
   },
   "file_extension": ".py",
   "mimetype": "text/x-python",
   "name": "python",
   "nbconvert_exporter": "python",
   "pygments_lexer": "ipython3",
   "version": "3.7.9"
  }
 },
 "nbformat": 4,
 "nbformat_minor": 4
}
