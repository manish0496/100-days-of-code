{
 "cells": [
  {
   "cell_type": "markdown",
   "metadata": {},
   "source": [
    "# # check age young old throgh class "
   ]
  },
  {
   "cell_type": "code",
   "execution_count": 1,
   "metadata": {},
   "outputs": [],
   "source": [
    "class Person:\n",
    "    def __init__(self, initialAge):\n",
    "        # Add some more code to run some checks on initialAge\n",
    "        self.age = 0\n",
    "        if initialAge < 0:\n",
    "            print(\"Age is not valid, setting age to 0.\")\n",
    "        else:\n",
    "            self.age = initialAge\n",
    "\n",
    "\n",
    "    def amIOld(self):\n",
    "        # Do some computations in here and print out the correct statement to the console\n",
    "        if age < 13:\n",
    "            print(\"You are young.\")\n",
    "        elif 13 <= age < 18:\n",
    "            print(\"You are a teenager.\")\n",
    "        elif age >= 18:\n",
    "            print(\"You are old.\")\n",
    "\n",
    "    def yearPasses(self):    \n",
    "        # Increment the age of the person in here\n",
    "        global age\n",
    "        age += 1"
   ]
  },
  {
   "cell_type": "markdown",
   "metadata": {},
   "source": [
    "# Objective\n",
    "Today we're expanding our knowledge of Strings and combining it with what we've already learned about loops. Check out the Tutorial tab for learning materials and an instructional video!\n",
    "\n",
    "Task\n",
    "Given a string, , of length  that is indexed from s  to N-1 , print its even-indexed and odd-indexed characters as  space-separated strings on a single line (see the Sample below for more detail).\n",
    "\n",
    "Note:  is considered to be an even index.\n",
    "\n",
    "Input Format\n",
    "\n",
    "The first line contains an integer,  (the number of test cases).\n",
    "Each line  of the  subsequent lines contain a String, .\n",
    "\n",
    "\n",
    "Output Format\n",
    "\n",
    "For each String  (where ), print 's even-indexed characters, followed by a space, followed by 's odd-indexed characters.\n",
    "\n",
    "Sample Input-----------output\n",
    "\n",
    "\n",
    "Hacker-------------------Hce akr\n",
    "\n",
    "Rank---------------------Rn ak\n",
    "\n",
    "\n",
    "\n",
    "\n"
   ]
  },
  {
   "cell_type": "code",
   "execution_count": 2,
   "metadata": {},
   "outputs": [
    {
     "name": "stdout",
     "output_type": "stream",
     "text": [
      "2\n",
      "manish\n",
      "mns aih\n",
      "rank\n",
      "rn ak\n"
     ]
    }
   ],
   "source": [
    "n = int(input())  # number of strings\n",
    "for _ in range(n):\n",
    "    string = input()\n",
    "    print(string[::2], string[1::2])  # print even letters, odd letters"
   ]
  },
  {
   "cell_type": "markdown",
   "metadata": {},
   "source": [
    "# Print the elements of array  in reverse order as a single line of space-separated numbers.\n",
    "\n",
    "Sample Input\n",
    "\n",
    "4\n",
    "1 4 3 2\n",
    "Sample Output\n",
    "\n",
    "2 3 4 1"
   ]
  },
  {
   "cell_type": "code",
   "execution_count": 3,
   "metadata": {},
   "outputs": [
    {
     "name": "stdout",
     "output_type": "stream",
     "text": [
      "2 3 4 1 4 "
     ]
    }
   ],
   "source": [
    "arr=[4,1,4,3,2]\n",
    "n=len(arr)\n",
    "for i in range(len(arr)-1,-1,-1):\n",
    "    print(arr[i],end=' ')\n"
   ]
  },
  {
   "cell_type": "markdown",
   "metadata": {},
   "source": [
    "# Objective\n",
    "Today, we're learning about Key-Value pair mappings using a Map or Dictionary data structure. Check out the Tutorial tab for learning materials and an instructional video!\n",
    "\n",
    "Task\n",
    "Given  names and phone numbers, assemble a phone book that maps friends' names to their respective phone numbers. You will then be given an unknown number of names to query your phone book for. For each  queried, print the associated entry from your phone book on a new line in the form name=phoneNumber; if an entry for  is not found, print Not found instead.\n",
    "\n",
    "Note: Your phone book should be a Dictionary/Map/HashMap data structure.\n",
    "\n",
    "Input Format\n",
    "\n",
    "The first line contains an integer, , denoting the number of entries in the phone book.\n",
    "Each of the  subsequent lines describes an entry in the form of  space-separated values on a single line. The first value is a friend's name, and the second value is an -digit phone number.\n",
    "\n",
    "After the  lines of phone book entries, there are an unknown number of lines of queries. Each line (query) contains a  to look up, and you must continue reading lines until there is no more input.\n",
    "\n",
    "Note: Names consist of lowercase English alphabetic letters and are first names only.\n",
    "\n",
    "Constraints\n",
    "\n",
    "Output Format\n",
    "\n",
    "On a new line for each query, print Not found if the name has no corresponding entry in the phone book; otherwise, print the full  and  in the format name=phoneNumber.\n",
    "\n",
    "Sample Input\n",
    "\n",
    "3\n",
    "sam 99912222\n",
    "tom 11122222\n",
    "harry 12299933\n",
    "sam\n",
    "edward\n",
    "harry\n",
    "Sample Output\n",
    "\n",
    "sam=99912222\n",
    "Not found\n",
    "harry=12299933"
   ]
  },
  {
   "cell_type": "code",
   "execution_count": 5,
   "metadata": {},
   "outputs": [
    {
     "name": "stdout",
     "output_type": "stream",
     "text": [
      "2\n",
      "manish 123456\n",
      "tiwari 2334455\n",
      "manish\n",
      "manish=123456\n",
      "rahul\n",
      "Not found\n"
     ]
    }
   ],
   "source": [
    "n = int(input())\n",
    "name_numbers = [input().split() for _ in range(n)]\n",
    "phone_book = {k: v for k,v in name_numbers}\n",
    "while True:\n",
    "    try:\n",
    "        name = input()\n",
    "        if name in phone_book:\n",
    "            print('%s=%s' % (name, phone_book[name]))\n",
    "        else:\n",
    "            print('Not found')\n",
    "            break\n",
    "    except:\n",
    "        break"
   ]
  },
  {
   "cell_type": "code",
   "execution_count": null,
   "metadata": {},
   "outputs": [],
   "source": []
  }
 ],
 "metadata": {
  "kernelspec": {
   "display_name": "Python 3",
   "language": "python",
   "name": "python3"
  },
  "language_info": {
   "codemirror_mode": {
    "name": "ipython",
    "version": 3
   },
   "file_extension": ".py",
   "mimetype": "text/x-python",
   "name": "python",
   "nbconvert_exporter": "python",
   "pygments_lexer": "ipython3",
   "version": "3.8.5"
  }
 },
 "nbformat": 4,
 "nbformat_minor": 4
}
