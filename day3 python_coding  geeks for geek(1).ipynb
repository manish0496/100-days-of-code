{
 "cells": [
  {
   "cell_type": "markdown",
   "metadata": {},
   "source": [
    "# 1. Write a program to reverse an array or string"
   ]
  },
  {
   "cell_type": "code",
   "execution_count": 5,
   "metadata": {},
   "outputs": [
    {
     "data": {
      "text/plain": [
       "[5, 4, 3, 2, 1]"
      ]
     },
     "execution_count": 5,
     "metadata": {},
     "output_type": "execute_result"
    }
   ],
   "source": [
    "def reversed_arr(arr,start,end):\n",
    "    \n",
    "    while(start<end):\n",
    "        arr[start],arr[end]=arr[end],arr[start]\n",
    "        start+=1\n",
    "        end-=1\n",
    "    return arr\n",
    "\n",
    "arr=[1,2,3,4,5]\n",
    "reversed_arr(arr,0,len(arr)-1)"
   ]
  },
  {
   "cell_type": "markdown",
   "metadata": {},
   "source": [
    "# 2.Maximum and minimum of an array using minimum number of comparisons"
   ]
  },
  {
   "cell_type": "code",
   "execution_count": 12,
   "metadata": {},
   "outputs": [
    {
     "data": {
      "text/plain": [
       "('maximum value:', 3000)"
      ]
     },
     "execution_count": 12,
     "metadata": {},
     "output_type": "execute_result"
    }
   ],
   "source": [
    "\n",
    "def max_Arr(arr):\n",
    "    \n",
    "    first=arr[0]\n",
    "    second=arr[0]\n",
    "    for i in range(1,len(arr)):\n",
    "        if arr[i]>first:\n",
    "            first=arr[i]\n",
    "            return 'maximum value:',first\n",
    "        \n",
    "    return 'maximum value:',first\n",
    "arr = [1000, 11, 445, 1, 330, 3000]\n",
    "max_Arr(arr)  \n",
    "    "
   ]
  },
  {
   "cell_type": "markdown",
   "metadata": {},
   "source": [
    "# 3.Move all negative numbers to beginning and positive to end with constant extra space\n",
    "\n",
    "Input: -12, 11, -13, -5, 6, -7, 5, -3, -6\n",
    "Output: -12 -13 -5 -7 -3 -6 11 6 5"
   ]
  },
  {
   "cell_type": "code",
   "execution_count": 13,
   "metadata": {},
   "outputs": [
    {
     "data": {
      "text/plain": [
       "[-12, -13, -5, -7, -3, -6, 11, 6, 5]"
      ]
     },
     "execution_count": 13,
     "metadata": {},
     "output_type": "execute_result"
    }
   ],
   "source": [
    "def rearrange(arr):\n",
    "    j=0\n",
    "    for i in range(len(arr)):\n",
    "        if arr[i]<0:\n",
    "            temp=arr[i]\n",
    "            arr[i]=arr[j]\n",
    "            arr[j]=temp\n",
    "            j+=1\n",
    "            \n",
    "    return arr\n",
    "arr=[ -12 ,-13, -5, -7 ,-3 ,-6, 11, 6 ,5]\n",
    "rearrange(arr)\n"
   ]
  },
  {
   "cell_type": "markdown",
   "metadata": {},
   "source": [
    "# 4. Python program to left rotate the elements of an array"
   ]
  },
  {
   "cell_type": "code",
   "execution_count": 11,
   "metadata": {},
   "outputs": [
    {
     "data": {
      "text/plain": [
       "[445, 1000, 3000, 1, 11, 330]"
      ]
     },
     "execution_count": 11,
     "metadata": {},
     "output_type": "execute_result"
    }
   ],
   "source": [
    "\n",
    "def leftrotate(arr,n):\n",
    "    for i in range(0,n):\n",
    "        first=arr[0]\n",
    "        for j in range(0,len(arr)-1):\n",
    "            arr[j]=arr[j+1]\n",
    "            \n",
    "        arr[len(arr)-1]=first\n",
    "        \n",
    "    return arr\n",
    "\n",
    "arr = sorted1(arr)\n",
    "leftrotate(arr,3)"
   ]
  },
  {
   "cell_type": "markdown",
   "metadata": {},
   "source": [
    "# 5. Sorting array "
   ]
  },
  {
   "cell_type": "code",
   "execution_count": 12,
   "metadata": {},
   "outputs": [
    {
     "data": {
      "text/plain": [
       "[1, 11, 330, 445, 1000, 3000]"
      ]
     },
     "execution_count": 12,
     "metadata": {},
     "output_type": "execute_result"
    }
   ],
   "source": [
    "def sorted1(arr):\n",
    "    for i in range(len(arr)):\n",
    "        k=i+1\n",
    "        for j in range(k,len(arr)):\n",
    "            if arr[i]>arr[j]:\n",
    "                arr[i],arr[j]=arr[j],arr[i]\n",
    "                \n",
    "    return arr\n",
    "\n",
    "arr = [1000, 11, 445, 1, 330, 3000]\n",
    "sorted1(arr)"
   ]
  },
  {
   "cell_type": "markdown",
   "metadata": {},
   "source": [
    "# 6. reverse an array"
   ]
  },
  {
   "cell_type": "code",
   "execution_count": 19,
   "metadata": {},
   "outputs": [
    {
     "data": {
      "text/plain": [
       "[3000, 330, 1, 445, 11, 1000]"
      ]
     },
     "execution_count": 19,
     "metadata": {},
     "output_type": "execute_result"
    }
   ],
   "source": [
    "def reverese(arr):\n",
    "    rev=[]\n",
    "    for i in range(len(arr)-1,-1,-1):\n",
    "        rev.append(arr[i])\n",
    "    return rev\n",
    "arr = [1000, 11, 445, 1, 330, 3000]\n",
    "reverese(arr)"
   ]
  },
  {
   "cell_type": "markdown",
   "metadata": {},
   "source": [
    "# 7. Python Program to find sum of array"
   ]
  },
  {
   "cell_type": "code",
   "execution_count": 4,
   "metadata": {},
   "outputs": [
    {
     "data": {
      "text/plain": [
       "4787"
      ]
     },
     "execution_count": 4,
     "metadata": {},
     "output_type": "execute_result"
    }
   ],
   "source": [
    "def find_some(arr):\n",
    "    sum1=0\n",
    "    for i in arr:\n",
    "        sum1+=i\n",
    "    return sum1\n",
    "\n",
    "arr = [1000, 11, 445, 1, 330, 3000]\n",
    "find_some(arr)"
   ]
  },
  {
   "cell_type": "markdown",
   "metadata": {},
   "source": [
    "# 8.Python Program to Split the array and add the first part to the end"
   ]
  },
  {
   "cell_type": "code",
   "execution_count": 5,
   "metadata": {},
   "outputs": [
    {
     "data": {
      "text/plain": [
       "[445, 1, 330, 3000, 3000, 11]"
      ]
     },
     "execution_count": 5,
     "metadata": {},
     "output_type": "execute_result"
    }
   ],
   "source": [
    "def split_arr(arr,n):\n",
    "    for i in range(0,n):\n",
    "        first=arr[0]\n",
    "        \n",
    "        for j in range(0,len(arr)-1):\n",
    "            arr[j]=arr[j+1]\n",
    "    arr[len(arr)-1]=first\n",
    "    \n",
    "    return arr\n",
    "arr = [1000, 11, 445, 1, 330, 3000]\n",
    "split_arr(arr,2)"
   ]
  },
  {
   "cell_type": "markdown",
   "metadata": {},
   "source": [
    "# 9. Python Program to find lowest element in an array"
   ]
  },
  {
   "cell_type": "code",
   "execution_count": 6,
   "metadata": {},
   "outputs": [
    {
     "data": {
      "text/plain": [
       "1"
      ]
     },
     "execution_count": 6,
     "metadata": {},
     "output_type": "execute_result"
    }
   ],
   "source": [
    "def lowest(arr):\n",
    "    first=arr[0]\n",
    "    for i in range(len(arr)-1):\n",
    "        if first>arr[i]:\n",
    "            first=arr[i]\n",
    "            \n",
    "    return first\n",
    "\n",
    "arr = [1000, 11, 445, 1, 330, 3000]\n",
    "lowest(arr)\n",
    "        "
   ]
  },
  {
   "cell_type": "markdown",
   "metadata": {},
   "source": [
    "# 10 Python Program for Find remainder of array multiplication divided by n\n",
    "\n",
    "Input : arr[] = {100, 10, 5, 25, 35, 14}, \n",
    "            n = 11\n",
    "Output : 9"
   ]
  },
  {
   "cell_type": "code",
   "execution_count": 7,
   "metadata": {},
   "outputs": [],
   "source": [
    "def multipication(arr):\n",
    "    multi=1\n",
    "    for i in arr:\n",
    "        multi*=i\n",
    "    return multi\n",
    "    "
   ]
  },
  {
   "cell_type": "code",
   "execution_count": 10,
   "metadata": {},
   "outputs": [
    {
     "name": "stdout",
     "output_type": "stream",
     "text": [
      "multipication of arr is  61250000\n"
     ]
    },
    {
     "data": {
      "text/plain": [
       "9"
      ]
     },
     "execution_count": 10,
     "metadata": {},
     "output_type": "execute_result"
    }
   ],
   "source": [
    "def reminder(arr,n):\n",
    "    arr=multipication(arr)\n",
    "    print('multipication of arr is ',arr)\n",
    "    reminder=arr%n\n",
    "    \n",
    "    return reminder\n",
    "arr1=[100, 10, 5, 25, 35, 14]\n",
    "reminder(arr1,11)"
   ]
  },
  {
   "cell_type": "markdown",
   "metadata": {},
   "source": [
    "# 11.Python Program to check if given array is Monotonic\n",
    "\n",
    "Input : 6 5 4 4\n",
    "Output : true\n",
    "\n",
    "Input : 5 15 20 10\n",
    "Output : false"
   ]
  },
  {
   "cell_type": "code",
   "execution_count": 18,
   "metadata": {},
   "outputs": [],
   "source": [
    "def monottonic(arr):\n",
    "    return all(arr[i]>=arr[i+1] for i in range(len(arr)-1)) or all(arr[i]<=arr[i+1] for i in range(len(arr)-1))"
   ]
  },
  {
   "cell_type": "code",
   "execution_count": 19,
   "metadata": {},
   "outputs": [
    {
     "data": {
      "text/plain": [
       "True"
      ]
     },
     "execution_count": 19,
     "metadata": {},
     "output_type": "execute_result"
    }
   ],
   "source": [
    "arr=[6,5,4,4]\n",
    "monottonic(arr)"
   ]
  },
  {
   "cell_type": "code",
   "execution_count": null,
   "metadata": {},
   "outputs": [],
   "source": [
    "arr=[ 5,15,20 10]\n",
    "monottonic(arr)"
   ]
  }
 ],
 "metadata": {
  "kernelspec": {
   "display_name": "Python 3",
   "language": "python",
   "name": "python3"
  },
  "language_info": {
   "codemirror_mode": {
    "name": "ipython",
    "version": 3
   },
   "file_extension": ".py",
   "mimetype": "text/x-python",
   "name": "python",
   "nbconvert_exporter": "python",
   "pygments_lexer": "ipython3",
   "version": "3.8.3"
  }
 },
 "nbformat": 4,
 "nbformat_minor": 4
}
